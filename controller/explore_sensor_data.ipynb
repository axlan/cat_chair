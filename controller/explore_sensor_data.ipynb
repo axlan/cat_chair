{
 "cells": [
  {
   "cell_type": "code",
   "execution_count": null,
   "metadata": {},
   "outputs": [],
   "source": [
    "import sqlite3 as lite\n",
    "from monitoring import DB_PATH, SENSORS, SensorDB\n",
    "\n"
   ]
  },
  {
   "cell_type": "code",
   "execution_count": null,
   "metadata": {},
   "outputs": [],
   "source": [
    "\n",
    "import pandas as pd\n",
    "\n",
    "# scp axlan@192.168.1.110:~/src/cat_chair/controller/*.sqlite controller/\n",
    "con = lite.connect(f'file:{DB_PATH}?mode=ro', uri=True)\n",
    "df = pd.read_sql_query(\"SELECT * from sensor_data\", con, parse_dates=['timestamp'])\n",
    "con.close()"
   ]
  },
  {
   "cell_type": "code",
   "execution_count": null,
   "metadata": {},
   "outputs": [],
   "source": []
  },
  {
   "cell_type": "code",
   "execution_count": null,
   "metadata": {},
   "outputs": [],
   "source": [
    "import plotly.express as px\n",
    "\n",
    "df_disp = df[df['value'] >= 0]\n",
    "df_disp['value'].replace(0, 0.1, inplace=True)\n",
    "df_disp['timestamp'] = df_disp['timestamp'].dt.tz_localize(tz='UTC')\n",
    "df_disp['timestamp'] = df_disp['timestamp'].dt.tz_convert(tz='US/Pacific')\n",
    "\n",
    "#\n",
    "# print(df)\n",
    "\n",
    "fig = px.scatter(df_disp, x=\"timestamp\", y=\"value\", log_y=True, color=\"name\")\n",
    "fig.show()"
   ]
  },
  {
   "cell_type": "code",
   "execution_count": null,
   "metadata": {},
   "outputs": [],
   "source": []
  }
 ],
 "metadata": {
  "kernelspec": {
   "display_name": "Python 3",
   "language": "python",
   "name": "python3"
  },
  "language_info": {
   "codemirror_mode": {
    "name": "ipython",
    "version": 3
   },
   "file_extension": ".py",
   "mimetype": "text/x-python",
   "name": "python",
   "nbconvert_exporter": "python",
   "pygments_lexer": "ipython3",
   "version": "3.8.2-final"
  },
  "orig_nbformat": 2
 },
 "nbformat": 4,
 "nbformat_minor": 2
}