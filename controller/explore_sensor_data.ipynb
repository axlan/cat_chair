{
 "cells": [
  {
   "cell_type": "code",
   "execution_count": null,
   "metadata": {},
   "outputs": [],
   "source": [
    "import sqlite3 as lite\n",
    "from monitoring import DB_PATH, SENSORS, SensorDB\n",
    "\n"
   ]
  },
  {
   "cell_type": "code",
   "execution_count": null,
   "metadata": {},
   "outputs": [],
   "source": [
    "\n",
    "import pandas as pd\n",
    "\n",
    "# scp axlan@192.168.1.110:~/src/cat_chair/controller/*.sqlite controller/\n",
    "con = lite.connect(f'file:{DB_PATH}?mode=ro', uri=True)\n",
    "df = pd.read_sql_query(\"SELECT * from sensor_data\", con, parse_dates=['timestamp'])\n",
    "con.close()"
   ]
  },
  {
   "cell_type": "code",
   "execution_count": null,
   "metadata": {},
   "outputs": [],
   "source": []
  },
  {
   "cell_type": "code",
   "execution_count": null,
   "metadata": {},
   "outputs": [],
   "source": [
    "import plotly.express as px\n",
    "\n",
    "df_disp = df[df['value'] >= 0]\n",
    "df_disp['value'].replace(0, 0.1, inplace=True)\n",
    "df_disp['timestamp'] = df_disp['timestamp'].dt.tz_localize(tz='UTC')\n",
    "df_disp['timestamp'] = df_disp['timestamp'].dt.tz_convert(tz='US/Pacific')\n",
    "\n",
    "#\n",
    "# print(df)\n",
    "\n",
    "fig = px.scatter(df_disp, x=\"timestamp\", y=\"value\", log_y=True, color=\"name\")\n",
    "#fig = px.scatter(df_disp, x=\"timestamp\", y=\"value\", color=\"name\")\n",
    "fig.show()\n",
    "# 1/9 sunny, no chair sensor until late in the day\n",
    "# 1/10 mix of sun and clouds. Sun briefly passed over chair. Sensor spacing activated back briefly, then front\n",
    "# 1/11 Mostly sunny day, started with the chair in place, then moved once the be in the sun again.\n",
    "# 1/12 Mostly cloudy day, moved chair when brief spot of sun occured\n"
   ]
  },
  {
   "cell_type": "code",
   "execution_count": null,
   "metadata": {},
   "outputs": [],
   "source": [
    "import plotly.graph_objects as go\n",
    "\n",
    "WINDOW_THRESHOLD = 20000\n",
    "\n",
    "def get_vals(name):\n",
    "    return df_disp[df_disp['name'].str.match(name)].set_index('timestamp')['value']\n",
    "\n",
    "def combine(left, right, suffixes=None):\n",
    "    return pd.merge_asof(left, right, left_index=True, right_index=True,direction='nearest',\n",
    "                         suffixes=suffixes, tolerance=pd.Timedelta(0.5,'sec') ).dropna()\n",
    "\n",
    "window_series = get_vals('window')\n",
    "front_series = get_vals('chair_front')\n",
    "back_series = get_vals('chair_back')\n",
    "\n",
    "filtered = combine(window_series, front_series, ['_window','_front'])\n",
    "filtered = combine(filtered, back_series)\n",
    "filtered.rename(columns={\"value\": \"value_back\"}, inplace=True)\n",
    "\n",
    "filtered = filtered[filtered['value_window'] > WINDOW_THRESHOLD]\n",
    "\n",
    "fig = go.Figure()\n",
    "\n",
    "fig.add_trace(go.Scatter(x=filtered.index, y=filtered['value_front'] - filtered['value_window'], mode='markers',name='front'))\n",
    "fig.add_trace(go.Scatter(x=filtered.index, y=filtered['value_back'] - filtered['value_window'], mode='markers',name='back'))\n",
    "\n",
    "fig.show()\n"
   ]
  },
  {
   "cell_type": "code",
   "execution_count": null,
   "metadata": {},
   "outputs": [],
   "source": [
    "fig = go.Figure()\n",
    "\n",
    "fig.add_trace(go.Scatter(x=filtered.index, y=filtered['value_front'] / filtered['value_window'], mode='markers',name='front'))\n",
    "fig.add_trace(go.Scatter(x=filtered.index, y=filtered['value_back'] / filtered['value_window'], mode='markers',name='back'))\n",
    "\n",
    "fig.show()\n"
   ]
  },
  {
   "cell_type": "code",
   "execution_count": null,
   "metadata": {},
   "outputs": [],
   "source": []
  }
 ],
 "metadata": {
  "kernelspec": {
   "display_name": "Python 3",
   "language": "python",
   "name": "python3"
  },
  "language_info": {
   "codemirror_mode": {
    "name": "ipython",
    "version": 3
   },
   "file_extension": ".py",
   "mimetype": "text/x-python",
   "name": "python",
   "nbconvert_exporter": "python",
   "pygments_lexer": "ipython3",
   "version": "3.8.2-final"
  },
  "orig_nbformat": 2
 },
 "nbformat": 4,
 "nbformat_minor": 2
}